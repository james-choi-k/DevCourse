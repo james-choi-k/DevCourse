{
  "cells": [
    {
      "cell_type": "markdown",
      "metadata": {
        "id": "view-in-github",
        "colab_type": "text"
      },
      "source": [
        "<a href=\"https://colab.research.google.com/github/james-choi-k/DevCourse/blob/main/month1/%5BKDT%5D%20%EC%9D%B8%EA%B3%B5%EC%A7%80%EB%8A%A5%202%EC%A3%BC%EC%B0%A8%20%EC%8B%A4%EC%8A%B5/2-3.%20%EC%9B%90%ED%95%98%EB%8A%94%20%EC%9A%94%EC%86%8C%20%EA%B0%80%EC%A0%B8%EC%98%A4%EA%B8%B0%20I%20-%20%EC%B1%85%20%EC%9D%B4%EB%A6%84%20%EB%AA%A8%EC%9C%BC%EA%B8%B0.ipynb\" target=\"_parent\"><img src=\"https://colab.research.google.com/assets/colab-badge.svg\" alt=\"Open In Colab\"/></a>"
      ]
    },
    {
      "cell_type": "markdown",
      "id": "192778f5-b6a0-458f-9d28-2ecd531975a1",
      "metadata": {
        "id": "192778f5-b6a0-458f-9d28-2ecd531975a1"
      },
      "source": [
        "## 2-3. 원하는 요소 가져오기 I - 책 이름 모으기\n",
        "\n",
        "- 연습만이 살길! 예시 사이트를 통해 스크래핑을 진행해봅시다."
      ]
    },
    {
      "cell_type": "markdown",
      "id": "21cda704-06c6-4de4-83a7-f77fbeec5728",
      "metadata": {
        "id": "21cda704-06c6-4de4-83a7-f77fbeec5728"
      },
      "source": [
        "### Target: Mock Book Data\n",
        "\n",
        "다음 사이트에 있는 책들의 이름 정보를 스크래핑 해봅시다 : http://books.toscrape.com/catalogue/category/books/travel_2/index.html  \n",
        "\n",
        "해당 웹 페이지는 임의의 책 정보가 담긴 웹 사이트입니다."
      ]
    },
    {
      "cell_type": "code",
      "execution_count": null,
      "id": "e1e6514c",
      "metadata": {
        "id": "e1e6514c"
      },
      "outputs": [],
      "source": [
        "# 스크래핑에 필요한 라이브러리를 불러와봅시다.\n",
        "\n",
        "import requests\n",
        "from bs4 import BeautifulSoup"
      ]
    },
    {
      "cell_type": "code",
      "execution_count": null,
      "id": "8bdbf061-8236-4008-b75c-449458718736",
      "metadata": {
        "id": "8bdbf061-8236-4008-b75c-449458718736"
      },
      "outputs": [],
      "source": [
        "# 예시 사이트에 요청을 진행하고, 응답을 바탕으로 BeautifulSoup 객체를 만들어봅시다.\n",
        "\n",
        "res = requests.get(\"http://books.toscrape.com/catalogue/category/books/travel_2/index.html\")\n",
        "\n",
        "soup= BeautifulSoup(res.text,\"html.parser\")\n"
      ]
    },
    {
      "cell_type": "code",
      "execution_count": null,
      "id": "3d6e0826",
      "metadata": {
        "id": "3d6e0826"
      },
      "outputs": [],
      "source": [
        "# <h3> 태그에 해당하는 요소를 하나 찾아봅시다\n",
        "\n",
        "book=soup.find(\"h3\")"
      ]
    },
    {
      "cell_type": "code",
      "execution_count": null,
      "id": "c1e6aeea",
      "metadata": {
        "colab": {
          "base_uri": "https://localhost:8080/"
        },
        "id": "c1e6aeea",
        "outputId": "0dee8b82-0f10-4e52-9712-0ae745a1ff60"
      },
      "outputs": [
        {
          "output_type": "execute_result",
          "data": {
            "text/plain": [
              "<h3><a href=\"../../../its-only-the-himalayas_981/index.html\" title=\"It's Only the Himalayas\">It's Only the Himalayas</a></h3>"
            ]
          },
          "metadata": {},
          "execution_count": 9
        }
      ],
      "source": [
        "# <h3> 태그에 해당하는 요소를 모두 찾아봅시다\n",
        "\n",
        "h3_result = soup.find_all(\"h3\")\n",
        "h3_result[0]"
      ]
    },
    {
      "cell_type": "markdown",
      "id": "d790d114",
      "metadata": {
        "id": "d790d114"
      },
      "source": [
        "찾아온 데이터들은 모두 **객체**이므로, 저희가 익숙한 방식대로 데이터를 추출할 수 있습니다."
      ]
    },
    {
      "cell_type": "code",
      "execution_count": null,
      "id": "e1af00f8-647a-4792-83bf-4a72a68c7c71",
      "metadata": {
        "colab": {
          "base_uri": "https://localhost:8080/"
        },
        "id": "e1af00f8-647a-4792-83bf-4a72a68c7c71",
        "outputId": "9dcfd25f-9de2-4027-b34f-d20d15a6572b"
      },
      "outputs": [
        {
          "output_type": "stream",
          "name": "stdout",
          "text": [
            "It's Only the Himalayas\n",
            "Full Moon over Noahâs Ark: An Odyssey to Mount Ararat and Beyond\n",
            "See America: A Celebration of Our National Parks & Treasured Sites\n",
            "Vagabonding: An Uncommon Guide to the Art of Long-Term World Travel\n",
            "Under the Tuscan Sun\n",
            "A Summer In Europe\n",
            "The Great Railway Bazaar\n",
            "A Year in Provence (Provence #1)\n",
            "The Road to Little Dribbling: Adventures of an American in Britain (Notes From a Small Island #2)\n",
            "Neither Here nor There: Travels in Europe\n",
            "1,000 Places to See Before You Die\n"
          ]
        }
      ],
      "source": [
        "# book_list에서 우리가 원하는 제목(title)만 추출해봅시다.\n",
        "for book in h3_result:\n",
        "    print(book.a[\"title\"])\n"
      ]
    },
    {
      "cell_type": "code",
      "source": [
        "!git config --global a01022878201@gmail.com \n",
        "!git config --global james-choi-k\n",
        "!git add"
      ],
      "metadata": {
        "colab": {
          "base_uri": "https://localhost:8080/"
        },
        "id": "xga_S2Qh2J9x",
        "outputId": "7ce0f806-c37d-4836-f8a9-0e37bcf4695c"
      },
      "id": "xga_S2Qh2J9x",
      "execution_count": null,
      "outputs": [
        {
          "output_type": "stream",
          "name": "stdout",
          "text": [
            "error: invalid key: a01022878201@gmail.com\n",
            "error: key does not contain a section: james-choi-k\n",
            "Nothing specified, nothing added.\n",
            "Maybe you wanted to say 'git add .'?\n"
          ]
        }
      ]
    }
  ],
  "metadata": {
    "kernelspec": {
      "display_name": "Python 3 (ipykernel)",
      "language": "python",
      "name": "python3"
    },
    "language_info": {
      "codemirror_mode": {
        "name": "ipython",
        "version": 3
      },
      "file_extension": ".py",
      "mimetype": "text/x-python",
      "name": "python",
      "nbconvert_exporter": "python",
      "pygments_lexer": "ipython3",
      "version": "3.10.4"
    },
    "colab": {
      "provenance": [],
      "include_colab_link": true
    }
  },
  "nbformat": 4,
  "nbformat_minor": 5
}